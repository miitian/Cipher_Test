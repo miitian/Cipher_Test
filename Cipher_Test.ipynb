{
 "cells": [
  {
   "cell_type": "code",
   "execution_count": 9,
   "metadata": {},
   "outputs": [],
   "source": [
    "# import random for random int generation\n",
    "import random\n",
    "# import operator for op.add and op.sub functions\n",
    "import operator as op\n",
    "\n",
    "\n",
    "class Cipher():\n",
    "    # Initialize Cipher class and generate random key\n",
    "    def __init__(self):\n",
    "        self.key = random.randint(1, 51)\n",
    "        print(f'The key is {self.key}')\n",
    "    \n",
    "    # generatory function for encryption\n",
    "    def generator_fn_encrypt(self, str1, fn):\n",
    "        for ch in str1:\n",
    "            if ch.isalnum():\n",
    "                yield chr(fn(ord(ch), self.key))\n",
    "\n",
    "    # generatory function for decryption\n",
    "    def generator_fn_decrypt(self, str2, fn):\n",
    "        for ch in str2:\n",
    "            yield chr(fn(ord(ch), self.key))\n",
    "\n",
    "    # encrypt function and take input from user\n",
    "    def encrypt(self):\n",
    "        str1 = input(f'Please enter the text to be encrypted: ')\n",
    "        encrypt_str = ''.join(list(self.generator_fn_encrypt(str1, op.add)))\n",
    "        print(f'The encrypted text is {encrypt_str}')\n",
    "        return encrypt_str\n",
    "\n",
    "    # decrypt function and take input from user\n",
    "    def decrypt(self, str2):\n",
    "        decrypt_str = ''.join(list(self.generator_fn_decrypt(str2, op.sub)))\n",
    "        print(f'The decrypted text is {decrypt_str}')\n",
    "        return decrypt_str"
   ]
  },
  {
   "cell_type": "code",
   "execution_count": 10,
   "metadata": {},
   "outputs": [
    {
     "name": "stdout",
     "output_type": "stream",
     "text": [
      "The key is 28\n",
      "Please enter the text to be encrypted: abc#\n",
      "The encrypted text is }~\n",
      "The decrypted text is abc\n"
     ]
    }
   ],
   "source": [
    "ci = Cipher()\n",
    "encrypted_string = ci.encrypt()\n",
    "decrypted_string = ci.decrypt(encrypted_string)"
   ]
  },
  {
   "cell_type": "code",
   "execution_count": null,
   "metadata": {},
   "outputs": [],
   "source": []
  }
 ],
 "metadata": {
  "kernelspec": {
   "display_name": "Python 3",
   "language": "python",
   "name": "python3"
  },
  "language_info": {
   "codemirror_mode": {
    "name": "ipython",
    "version": 3
   },
   "file_extension": ".py",
   "mimetype": "text/x-python",
   "name": "python",
   "nbconvert_exporter": "python",
   "pygments_lexer": "ipython3",
   "version": "3.6.5"
  }
 },
 "nbformat": 4,
 "nbformat_minor": 2
}
